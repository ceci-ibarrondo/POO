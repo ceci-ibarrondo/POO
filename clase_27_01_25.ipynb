{
  "nbformat": 4,
  "nbformat_minor": 0,
  "metadata": {
    "colab": {
      "provenance": []
    },
    "kernelspec": {
      "name": "python3",
      "display_name": "Python 3"
    },
    "language_info": {
      "name": "python"
    }
  },
  "cells": [
    {
      "cell_type": "markdown",
      "source": [
        "# Conjuntos y listas\n",
        "\n",
        "- Conjuntos finitos:\n",
        "$$\\{o_1, o_2, \\dots, o_n \\}$$\n",
        "\n",
        "- Listas finitas:\n",
        "$$[l_1, l_2, \\dots, l_n]$$\n",
        "\n",
        "**Generador de íncides:** `range(a,b)` donde $a,b > 0$ -- te da las etiquetas de un conjunto o una lista."
      ],
      "metadata": {
        "id": "TJqJ7e7EcfaH"
      }
    },
    {
      "cell_type": "code",
      "execution_count": 1,
      "metadata": {
        "colab": {
          "base_uri": "https://localhost:8080/"
        },
        "id": "GMwZHowTbgAB",
        "outputId": "f7069939-975d-435a-e1ee-484bf9aa4c71"
      },
      "outputs": [
        {
          "output_type": "execute_result",
          "data": {
            "text/plain": [
              "range(0, 10)"
            ]
          },
          "metadata": {},
          "execution_count": 1
        }
      ],
      "source": [
        "range(10)"
      ]
    },
    {
      "cell_type": "markdown",
      "source": [
        "¿Cómo puedo ver a los elemtnso de este generado de índices?"
      ],
      "metadata": {
        "id": "pgykLQa3fj5M"
      }
    },
    {
      "cell_type": "code",
      "source": [
        "for i in range(10) : print(i)"
      ],
      "metadata": {
        "colab": {
          "base_uri": "https://localhost:8080/"
        },
        "id": "wWNe0tBqgEP0",
        "outputId": "94029003-5490-4d94-f74a-0528e90d531b"
      },
      "execution_count": 2,
      "outputs": [
        {
          "output_type": "stream",
          "name": "stdout",
          "text": [
            "0\n",
            "1\n",
            "2\n",
            "3\n",
            "4\n",
            "5\n",
            "6\n",
            "7\n",
            "8\n",
            "9\n"
          ]
        }
      ]
    },
    {
      "cell_type": "code",
      "source": [
        "# Vamos a crear dos conjuntos\n",
        "\n",
        "Pares = { i for i in range(21) if i%2==0}\n",
        "print(f\"Pares: {Pares}\")\n",
        "\n",
        "Impares = { i for i in range(21) if i%2==1}\n",
        "print(f\"Impares: {Impares}\")\n"
      ],
      "metadata": {
        "colab": {
          "base_uri": "https://localhost:8080/"
        },
        "id": "qie4so2ahTPJ",
        "outputId": "dc6163a0-c609-4ca2-c59c-315f8aac32e6"
      },
      "execution_count": 7,
      "outputs": [
        {
          "output_type": "stream",
          "name": "stdout",
          "text": [
            "Pares: {0, 2, 4, 6, 8, 10, 12, 14, 16, 18, 20}\n",
            "Impares: {1, 3, 5, 7, 9, 11, 13, 15, 17, 19}\n"
          ]
        }
      ]
    },
    {
      "cell_type": "code",
      "source": [
        "C = {17, 7, 27, 19, 77, 56, 8, 12, 10, 13, 20, 16}\n",
        "C, type(C)"
      ],
      "metadata": {
        "colab": {
          "base_uri": "https://localhost:8080/"
        },
        "id": "cvkpT-ZfjHvR",
        "outputId": "f7c75aef-2708-4276-dc66-1b29b218210e"
      },
      "execution_count": 8,
      "outputs": [
        {
          "output_type": "execute_result",
          "data": {
            "text/plain": [
              "({7, 8, 10, 12, 13, 16, 17, 19, 20, 27, 56, 77}, set)"
            ]
          },
          "metadata": {},
          "execution_count": 8
        }
      ]
    },
    {
      "cell_type": "markdown",
      "source": [
        "**Los objetos en phyton tienen atributos**"
      ],
      "metadata": {
        "id": "fcw3OewmkAuO"
      }
    },
    {
      "cell_type": "code",
      "source": [
        "Pares.intersection(Impares) # El conjunto vacío"
      ],
      "metadata": {
        "colab": {
          "base_uri": "https://localhost:8080/"
        },
        "id": "c0plzup6kKah",
        "outputId": "230e91e4-3933-4c60-d767-a12867cc3e45"
      },
      "execution_count": 10,
      "outputs": [
        {
          "output_type": "execute_result",
          "data": {
            "text/plain": [
              "set()"
            ]
          },
          "metadata": {},
          "execution_count": 10
        }
      ]
    },
    {
      "cell_type": "code",
      "source": [
        "Pares.union(Impares)"
      ],
      "metadata": {
        "colab": {
          "base_uri": "https://localhost:8080/"
        },
        "id": "gSwMcbbvkwB0",
        "outputId": "0daa76fd-4c45-4235-9837-977833d92640"
      },
      "execution_count": 11,
      "outputs": [
        {
          "output_type": "execute_result",
          "data": {
            "text/plain": [
              "{0, 1, 2, 3, 4, 5, 6, 7, 8, 9, 10, 11, 12, 13, 14, 15, 16, 17, 18, 19, 20}"
            ]
          },
          "metadata": {},
          "execution_count": 11
        }
      ]
    },
    {
      "cell_type": "code",
      "source": [
        "Impares.difference(C) # Quitando los elementos de C a los impares\n"
      ],
      "metadata": {
        "colab": {
          "base_uri": "https://localhost:8080/"
        },
        "id": "iNu5olMEkzgp",
        "outputId": "34bb2b40-fe71-4918-9479-0cbeed3df45e"
      },
      "execution_count": 12,
      "outputs": [
        {
          "output_type": "execute_result",
          "data": {
            "text/plain": [
              "{1, 3, 5, 9, 11, 15}"
            ]
          },
          "metadata": {},
          "execution_count": 12
        }
      ]
    },
    {
      "cell_type": "code",
      "source": [
        "Pares.difference(C)"
      ],
      "metadata": {
        "colab": {
          "base_uri": "https://localhost:8080/"
        },
        "id": "V0_jeUkelEOD",
        "outputId": "b2295265-f692-415c-c6c1-d258b63cb88f"
      },
      "execution_count": 14,
      "outputs": [
        {
          "output_type": "execute_result",
          "data": {
            "text/plain": [
              "{0, 2, 4, 6, 14, 18}"
            ]
          },
          "metadata": {},
          "execution_count": 14
        }
      ]
    },
    {
      "cell_type": "markdown",
      "source": [
        "##LISTAS\n",
        "\n"
      ],
      "metadata": {
        "id": "aNniB8zQlrSF"
      }
    },
    {
      "cell_type": "code",
      "source": [
        "Lista_pares =list(Pares)\n",
        "Lista_pares"
      ],
      "metadata": {
        "colab": {
          "base_uri": "https://localhost:8080/"
        },
        "id": "YFLbNVlhmA5F",
        "outputId": "9e977a06-192a-4926-ee85-55d14fa2887a"
      },
      "execution_count": 15,
      "outputs": [
        {
          "output_type": "execute_result",
          "data": {
            "text/plain": [
              "[0, 2, 4, 6, 8, 10, 12, 14, 16, 18, 20]"
            ]
          },
          "metadata": {},
          "execution_count": 15
        }
      ]
    }
  ]
}