{
  "nbformat": 4,
  "nbformat_minor": 0,
  "metadata": {
    "colab": {
      "provenance": []
    },
    "kernelspec": {
      "name": "python3",
      "display_name": "Python 3"
    },
    "language_info": {
      "name": "python"
    }
  },
  "cells": [
    {
      "cell_type": "markdown",
      "source": [
        "##LISTAS Y ARREGLOS"
      ],
      "metadata": {
        "id": "LWUlRAA1-g5e"
      }
    },
    {
      "cell_type": "markdown",
      "source": [
        "$$range(a,b)$$\n",
        "\n",
        "---\n",
        "$$ a\\geq 0 $$\n",
        "$$ a\\geq 0$$\n",
        "$$a<b $$"
      ],
      "metadata": {
        "id": "I164MgSWs58m"
      }
    },
    {
      "cell_type": "markdown",
      "source": [
        "Si $A$ un conjunto, sea $a\\in A$"
      ],
      "metadata": {
        "id": "bUkL0aqk_Y05"
      }
    },
    {
      "cell_type": "code",
      "source": [
        "Indices= [i for i in range(0,21)]\n",
        "Indices #aqui solo lo llamas y te aparece sin titulo¿i"
      ],
      "metadata": {
        "colab": {
          "base_uri": "https://localhost:8080/"
        },
        "id": "ylKYjJbZBinR",
        "outputId": "467b2991-ec59-4e01-a253-a63917e58781"
      },
      "execution_count": 1,
      "outputs": [
        {
          "output_type": "execute_result",
          "data": {
            "text/plain": [
              "[0, 1, 2, 3, 4, 5, 6, 7, 8, 9, 10, 11, 12, 13, 14, 15, 16, 17, 18, 19, 20]"
            ]
          },
          "metadata": {},
          "execution_count": 1
        }
      ]
    },
    {
      "cell_type": "code",
      "source": [
        "Multiplos_3 = [i for i in range(0,21) if i%3==0]\n",
        "print (f\"Multiplos_3: {Multiplos_3}\") #aqui te dice multiplos de 3: ...."
      ],
      "metadata": {
        "colab": {
          "base_uri": "https://localhost:8080/"
        },
        "id": "2_ASo6gRBNvm",
        "outputId": "71cb986d-3dc8-48a8-9650-35a512dde09f"
      },
      "execution_count": 2,
      "outputs": [
        {
          "output_type": "stream",
          "name": "stdout",
          "text": [
            "Multiplos_3: [0, 3, 6, 9, 12, 15, 18]\n"
          ]
        }
      ]
    },
    {
      "cell_type": "code",
      "source": [
        "for i in range(10):\n",
        " print(i)"
      ],
      "metadata": {
        "colab": {
          "base_uri": "https://localhost:8080/"
        },
        "id": "YIKvAVfWy8OX",
        "outputId": "76033871-6e56-4917-aed8-9d5125e63fdf"
      },
      "execution_count": 3,
      "outputs": [
        {
          "output_type": "stream",
          "name": "stdout",
          "text": [
            "0\n",
            "1\n",
            "2\n",
            "3\n",
            "4\n",
            "5\n",
            "6\n",
            "7\n",
            "8\n",
            "9\n"
          ]
        }
      ]
    },
    {
      "cell_type": "markdown",
      "source": [
        "lista = list(Pares)"
      ],
      "metadata": {
        "id": "n3Jy64kY1bIf"
      }
    },
    {
      "cell_type": "code",
      "source": [
        "x = 7\n",
        "str(x) #string\n",
        "float(x) #double"
      ],
      "metadata": {
        "colab": {
          "base_uri": "https://localhost:8080/"
        },
        "id": "aYOcRCPT1es1",
        "outputId": "5ab1c7f5-0b40-4798-8974-4eb212877fcc"
      },
      "execution_count": 4,
      "outputs": [
        {
          "output_type": "execute_result",
          "data": {
            "text/plain": [
              "7.0"
            ]
          },
          "metadata": {},
          "execution_count": 4
        }
      ]
    },
    {
      "cell_type": "code",
      "source": [
        "y = \"7\" #transfomrar de texto de un número a un int (pero no se pueden letras)\n",
        "int(y)"
      ],
      "metadata": {
        "colab": {
          "base_uri": "https://localhost:8080/"
        },
        "id": "pcL4llKl1hui",
        "outputId": "ee8a8390-9e31-44ae-9de7-61779323c376"
      },
      "execution_count": 5,
      "outputs": [
        {
          "output_type": "execute_result",
          "data": {
            "text/plain": [
              "7"
            ]
          },
          "metadata": {},
          "execution_count": 5
        }
      ]
    },
    {
      "cell_type": "markdown",
      "source": [
        "##INGRESOS"
      ],
      "metadata": {
        "id": "VL-z02MvFM5P"
      }
    },
    {
      "cell_type": "code",
      "source": [
        "Ceci =[]\n",
        "\n",
        "Ceci.append(18) #sirve para agregar elementos a una lista"
      ],
      "metadata": {
        "id": "dENGES_iFQyn"
      },
      "execution_count": 6,
      "outputs": []
    },
    {
      "cell_type": "code",
      "source": [
        "Ceci.insert(1, \"Violín\")"
      ],
      "metadata": {
        "id": "AQQ3neLbGEUI"
      },
      "execution_count": 7,
      "outputs": []
    },
    {
      "cell_type": "code",
      "source": [
        "Ceci"
      ],
      "metadata": {
        "colab": {
          "base_uri": "https://localhost:8080/"
        },
        "id": "I_2FfWtdG67u",
        "outputId": "ff6de1e7-e90e-4269-da32-9e4b57f107f5"
      },
      "execution_count": 8,
      "outputs": [
        {
          "output_type": "execute_result",
          "data": {
            "text/plain": [
              "[18, 'Violín']"
            ]
          },
          "metadata": {},
          "execution_count": 8
        }
      ]
    },
    {
      "cell_type": "code",
      "source": [
        "Ceci.append(1.62)"
      ],
      "metadata": {
        "id": "xuMlY7FbHWbT"
      },
      "execution_count": 28,
      "outputs": []
    },
    {
      "cell_type": "code",
      "source": [
        "Ceci"
      ],
      "metadata": {
        "colab": {
          "base_uri": "https://localhost:8080/"
        },
        "id": "-bkx7Fq0I7nU",
        "outputId": "2b58eef7-4b60-4a42-9693-d556400c31bd"
      },
      "execution_count": 32,
      "outputs": [
        {
          "output_type": "execute_result",
          "data": {
            "text/plain": [
              "[18, 'Violín', 'Perro', 1.62]"
            ]
          },
          "metadata": {},
          "execution_count": 32
        }
      ]
    },
    {
      "cell_type": "markdown",
      "source": [
        "El remove sirve para quitar algo repetido por su nombre y el pop sirve para quitar algo repetido por su posición."
      ],
      "metadata": {
        "id": "OlGuw1VgJw7a"
      }
    },
    {
      "cell_type": "code",
      "source": [
        "Ceci.remove(\"Perro\")"
      ],
      "metadata": {
        "id": "z8QBfJCMMvAG"
      },
      "execution_count": 30,
      "outputs": []
    },
    {
      "cell_type": "code",
      "source": [
        "Ceci.insert(4, \"Perro\")"
      ],
      "metadata": {
        "id": "7yjHNIA1I_2Y"
      },
      "execution_count": 26,
      "outputs": []
    },
    {
      "cell_type": "code",
      "source": [
        "Ceci"
      ],
      "metadata": {
        "colab": {
          "base_uri": "https://localhost:8080/"
        },
        "id": "DxaSmJsTJEgu",
        "outputId": "afeea88e-fec7-44be-d4cc-0f72785eb98d"
      },
      "execution_count": 31,
      "outputs": [
        {
          "output_type": "execute_result",
          "data": {
            "text/plain": [
              "[18, 'Violín', 'Perro', 1.62]"
            ]
          },
          "metadata": {},
          "execution_count": 31
        }
      ]
    },
    {
      "cell_type": "code",
      "source": [
        "Ceci[0]"
      ],
      "metadata": {
        "colab": {
          "base_uri": "https://localhost:8080/"
        },
        "id": "gwACMfegJJX0",
        "outputId": "8acdc145-3788-4bd2-93c6-e2de27473a8e"
      },
      "execution_count": 13,
      "outputs": [
        {
          "output_type": "execute_result",
          "data": {
            "text/plain": [
              "18"
            ]
          },
          "metadata": {},
          "execution_count": 13
        }
      ]
    },
    {
      "cell_type": "code",
      "source": [
        "Ceci[0::3]"
      ],
      "metadata": {
        "colab": {
          "base_uri": "https://localhost:8080/"
        },
        "id": "I6Rz3IYWNr67",
        "outputId": "d86569da-8bf8-4929-d4e3-cb77354a114a"
      },
      "execution_count": 33,
      "outputs": [
        {
          "output_type": "execute_result",
          "data": {
            "text/plain": [
              "[18, 1.62]"
            ]
          },
          "metadata": {},
          "execution_count": 33
        }
      ]
    },
    {
      "cell_type": "code",
      "source": [
        "Indices[0::3]"
      ],
      "metadata": {
        "colab": {
          "base_uri": "https://localhost:8080/"
        },
        "id": "b4L_hJD0NyvJ",
        "outputId": "0fadf937-3bec-4029-80e6-5c6f95063a6f"
      },
      "execution_count": 34,
      "outputs": [
        {
          "output_type": "execute_result",
          "data": {
            "text/plain": [
              "[0, 3, 6, 9, 12, 15, 18]"
            ]
          },
          "metadata": {},
          "execution_count": 34
        }
      ]
    }
  ]
}