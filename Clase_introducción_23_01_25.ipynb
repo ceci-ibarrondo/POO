{
  "nbformat": 4,
  "nbformat_minor": 0,
  "metadata": {
    "colab": {
      "provenance": []
    },
    "kernelspec": {
      "name": "python3",
      "display_name": "Python 3"
    },
    "language_info": {
      "name": "python"
    }
  },
  "cells": [
    {
      "cell_type": "markdown",
      "source": [
        "# Introducción a Python\n",
        "Hoy vamos a ver una introducción a python. Es un lenguaje orientado a objetos, que funciona de una manera sencilla pero sigue de la mano con C.\n",
        "\n",
        "##¿Qué veremos hoy?\n",
        "1. Objetos\n",
        "2. Variables\n",
        "3. Ejemplo\n",
        "\n",
        "\n",
        "\n",
        "\n"
      ],
      "metadata": {
        "id": "Dw-BIfh1qU7M"
      }
    },
    {
      "cell_type": "markdown",
      "source": [
        "Nota: En este procesador se puede escribir en html y en latex.\n",
        "Por ejemplo, vamos a escribir la ecuación más hermosa de todas:\n",
        "\n",
        "$$e^{i\\pi}+1=0$$\n",
        "\n",
        "Los signos de dinero lo convierten a latex $$\n",
        "\n",
        "\n",
        "\n"
      ],
      "metadata": {
        "id": "nN4JmqW8uBUW"
      }
    },
    {
      "cell_type": "markdown",
      "source": [
        "Otro ejemplo:\n",
        "\n",
        "$$\n",
        "A = \\begin{pmatrix}\n",
        "1 & 2 & 3 \\\\\n",
        "4 & 5 & 6 \\\\\n",
        "7 & 8 & 9\n",
        "\\end{pmatrix}\n",
        "$$\n",
        "\n"
      ],
      "metadata": {
        "id": "m1EzWMRAwzLO"
      }
    },
    {
      "cell_type": "markdown",
      "source": [
        "###Algunos objetos en Phython:\n",
        "\n",
        "\n",
        "1.   int y float (double)\n",
        "2.   str (\"string\")\n",
        "3. Comjuntos y listas\n",
        "\n",
        "---\n",
        "\n",
        "ya no Console.WriteLine ahora es print\n",
        "**La función `print` y la función `type`**\n",
        "\n",
        "OJO: texto con solo comillas va después de los print(\") y este se va a imprimir con una comilla de cada lado, si lo escribes antes entonces no va a aparecer:\n",
        "\n"
      ],
      "metadata": {
        "id": "VpQVTGYq7BUZ"
      }
    },
    {
      "cell_type": "code",
      "source": [
        "# Vamos a imprimir Hola Mundo!\n",
        "\n",
        "print(\"Hola Mundo!\")\n",
        "\n",
        "\"Ceci\"\n"
      ],
      "metadata": {
        "colab": {
          "base_uri": "https://localhost:8080/",
          "height": 53
        },
        "id": "oxLzFQXq9hdm",
        "outputId": "b8f10eeb-0c7c-4db1-8357-d2776dd96cc4"
      },
      "execution_count": 5,
      "outputs": [
        {
          "output_type": "stream",
          "name": "stdout",
          "text": [
            "Hola Mundo\n"
          ]
        },
        {
          "output_type": "execute_result",
          "data": {
            "text/plain": [
              "'Ceci'"
            ],
            "application/vnd.google.colaboratory.intrinsic+json": {
              "type": "string"
            }
          },
          "metadata": {},
          "execution_count": 5
        }
      ]
    },
    {
      "cell_type": "markdown",
      "source": [
        "####Operaciones básicas en int o float (double)\n",
        "\n",
        "1.   $+, -,$ SUMA Y RESTA.\n",
        "2.   $*,/,**$, MULTIPLICACIÓN, DIVISIÓN Y POTENCIA.\n",
        "3. $\\%$, OPERACIÓN MODULAR.\n",
        "4. $//$ DIVISIÓN AL PISO. (Le resta 1 al entero y ese es el que divide)\n"
      ],
      "metadata": {
        "id": "UsD7rzQ3AWGp"
      }
    },
    {
      "cell_type": "markdown",
      "source": [
        "**CREACIÓN DE VARIABLES**\n",
        "Siempre tener en cuenta como estas llamando a tus variables\n",
        "---\n",
        "nombre = objeto\n",
        "\n",
        "\n"
      ],
      "metadata": {
        "id": "jkbJaG1zFMPO"
      }
    },
    {
      "cell_type": "code",
      "source": [
        "# Vamos a crear 2 variables\n",
        "x = 7\n",
        "y = 3"
      ],
      "metadata": {
        "id": "KwfTPUoNFzJm"
      },
      "execution_count": 15,
      "outputs": []
    },
    {
      "cell_type": "code",
      "source": [
        "# Operaciones\n",
        "print(f\"La suma entre {x} y {y} es {x+y}\")\n",
        "print(f\"La resta entre {x} y {y} es {x-y}\")\n",
        "print(f\"La multiplicación entre {x} y {y} es {x*y}\")\n",
        "print(f\"La división entre {x} y {y} es {x/y}\")\n",
        "print(f\"La potenciación entre {x} y {y} es {x**y}\")\n",
        "print(f\"La división al piso entre {x} y {y} es {x//y}\")\n",
        "print(f\"El residuo entre {x} y {y} es {x%y}\")"
      ],
      "metadata": {
        "colab": {
          "base_uri": "https://localhost:8080/"
        },
        "id": "a4AtbIFyG1Rs",
        "outputId": "4386d9c0-ffe2-4d05-9d37-4757a03c38ef"
      },
      "execution_count": 16,
      "outputs": [
        {
          "output_type": "stream",
          "name": "stdout",
          "text": [
            "La suma entre 7 y 3 es 10\n",
            "La resta entre 7 y 3 es 4\n",
            "La multiplicación entre 7 y 3 es 21\n",
            "La división entre 7 y 3 es 2.3333333333333335\n",
            "La potenciación entre 7 y 3 es 343\n",
            "La división al piso entre 7 y 3 es 2\n",
            "El residuo entre 7 y 3 es 1\n"
          ]
        }
      ]
    },
    {
      "cell_type": "code",
      "source": [
        "# La función type nos dice el tipo de objeto que estamos usando\n",
        "type(x/y), type(\"Ceci\")"
      ],
      "metadata": {
        "colab": {
          "base_uri": "https://localhost:8080/"
        },
        "id": "xrx5m52jIwQE",
        "outputId": "9b814cf7-7b09-4d70-b00b-d11c2dd9f6ab"
      },
      "execution_count": 18,
      "outputs": [
        {
          "output_type": "execute_result",
          "data": {
            "text/plain": [
              "(float, str)"
            ]
          },
          "metadata": {},
          "execution_count": 18
        }
      ]
    }
  ]
}