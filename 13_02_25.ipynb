{
  "nbformat": 4,
  "nbformat_minor": 0,
  "metadata": {
    "colab": {
      "provenance": []
    },
    "kernelspec": {
      "name": "python3",
      "display_name": "Python 3"
    },
    "language_info": {
      "name": "python"
    }
  },
  "cells": [
    {
      "cell_type": "markdown",
      "source": [
        "*Clases y herencias*\n",
        "\n",
        "¿Qué es una clase?\n",
        "- Una clase es como una estructura que contiene funciones dentro. En otras palabras, un grupo de funciones.\n",
        ""
      ],
      "metadata": {
        "id": "mZBLGyYMLi9f"
      }
    },
    {
      "cell_type": "code",
      "source": [
        "class Alvaro():\n",
        " pass"
      ],
      "metadata": {
        "id": "y8S07dYcRKQT"
      },
      "execution_count": 11,
      "outputs": []
    },
    {
      "cell_type": "code",
      "source": [
        "Alvaro()"
      ],
      "metadata": {
        "colab": {
          "base_uri": "https://localhost:8080/"
        },
        "id": "geH-b8r3RNYy",
        "outputId": "6cf30b75-9a8f-4ef5-a36b-c9034ea36d7f"
      },
      "execution_count": 12,
      "outputs": [
        {
          "output_type": "execute_result",
          "data": {
            "text/plain": [
              "<__main__.Alvaro at 0x7f77230c5950>"
            ]
          },
          "metadata": {},
          "execution_count": 12
        }
      ]
    },
    {
      "cell_type": "code",
      "source": [
        "#Vamos a crear una clase que se llamará Álvaro\n",
        "class Alvaro:\n",
        " def __init__(self,edad,bff,Ceci):\n",
        "  self.edad = edad\n",
        "  self.bff = bff\n",
        "  self.Ceci = Ceci\n",
        "\n",
        " def saludar(self):\n",
        "   print(f\"A los {self.edad} conocí a mi amiga {self.bff}\")\n",
        "\n",
        " def chisme(self):\n",
        "   print(f\"Estoy en el chisme con {self.bff} y con {self.Ceci}\")\n",
        "\n",
        "\n",
        "\n"
      ],
      "metadata": {
        "id": "a4vwsEhpL6zZ"
      },
      "execution_count": 47,
      "outputs": []
    },
    {
      "cell_type": "code",
      "source": [
        "avo = Alvaro(19, \"Jaume\", \"Ceci\")"
      ],
      "metadata": {
        "id": "flfQZlfUREuR"
      },
      "execution_count": 49,
      "outputs": []
    },
    {
      "cell_type": "code",
      "source": [
        "#¿Cuales son los argumentos de la clase?\n",
        "avo.edad,avo.bff"
      ],
      "metadata": {
        "colab": {
          "base_uri": "https://localhost:8080/"
        },
        "id": "0RRmWkw2R1FN",
        "outputId": "14106d76-b2be-4730-9264-e7f26deb7753"
      },
      "execution_count": 50,
      "outputs": [
        {
          "output_type": "execute_result",
          "data": {
            "text/plain": [
              "(19, 'Jaume')"
            ]
          },
          "metadata": {},
          "execution_count": 50
        }
      ]
    },
    {
      "cell_type": "code",
      "source": [
        "avo.saludar()"
      ],
      "metadata": {
        "colab": {
          "base_uri": "https://localhost:8080/"
        },
        "id": "bMiyX3cDVlCi",
        "outputId": "3aaa30a1-3313-4c0c-c90c-38c98e704f5c"
      },
      "execution_count": 51,
      "outputs": [
        {
          "output_type": "stream",
          "name": "stdout",
          "text": [
            "A los 19 conocí a mi amiga Jaume\n"
          ]
        }
      ]
    },
    {
      "cell_type": "code",
      "source": [
        "# ¿Qué está haciendo Alvaro?\n",
        "avo.chisme()"
      ],
      "metadata": {
        "colab": {
          "base_uri": "https://localhost:8080/"
        },
        "id": "ID3ZGrdTVnN9",
        "outputId": "9b8f7943-0c6d-4300-b0b0-bb15db38d3ff"
      },
      "execution_count": 52,
      "outputs": [
        {
          "output_type": "stream",
          "name": "stdout",
          "text": [
            "Estoy en el chisme con Jaume y con Ceci\n"
          ]
        }
      ]
    }
  ]
}