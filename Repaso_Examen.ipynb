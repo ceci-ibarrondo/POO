{
  "nbformat": 4,
  "nbformat_minor": 0,
  "metadata": {
    "colab": {
      "provenance": []
    },
    "kernelspec": {
      "name": "python3",
      "display_name": "Python 3"
    },
    "language_info": {
      "name": "python"
    }
  },
  "cells": [
    {
      "cell_type": "code",
      "execution_count": 1,
      "metadata": {
        "colab": {
          "base_uri": "https://localhost:8080/"
        },
        "id": "BSMd15gv4bp5",
        "outputId": "1b5dac05-ba7c-480b-c1fd-dd2528c79424"
      },
      "outputs": [
        {
          "output_type": "stream",
          "name": "stdout",
          "text": [
            "Hola Mundo!\n"
          ]
        }
      ],
      "source": [
        "print(\"Hola Mundo!\") #Ejercicio 1"
      ]
    },
    {
      "cell_type": "code",
      "source": [
        "nombre = str( input(\"Cómo te llamas \")) #Ejercicio 2\n",
        "print(\"Hola \" + nombre)"
      ],
      "metadata": {
        "colab": {
          "base_uri": "https://localhost:8080/"
        },
        "id": "4_ndtTu04mOa",
        "outputId": "de6954db-b796-49d4-ed94-ac5d9fc57b4c"
      },
      "execution_count": 11,
      "outputs": [
        {
          "output_type": "stream",
          "name": "stdout",
          "text": [
            "Cómo te llamas ceci\n",
            "Hola ceci\n"
          ]
        }
      ]
    },
    {
      "cell_type": "code",
      "source": [
        "numero = int(input(\"Da un número \")) #Ejercicio 3\n",
        "print(f\"El doble del número es {numero*2}\")\n"
      ],
      "metadata": {
        "colab": {
          "base_uri": "https://localhost:8080/"
        },
        "id": "td4iRNzT5aWz",
        "outputId": "2f0cb21a-679d-4575-f35f-222e237e3f6f"
      },
      "execution_count": 28,
      "outputs": [
        {
          "output_type": "stream",
          "name": "stdout",
          "text": [
            "Da un número 4\n",
            "El doble del número es 8\n"
          ]
        }
      ]
    },
    {
      "cell_type": "code",
      "source": [
        "numero1= int(input(\"Da un primer numero \")) #Ejercicio 4\n",
        "numero2= int(input(\"Da un segundo numero \"))\n",
        "print(f\"La suma de los números es {(numero1+numero2)}\")"
      ],
      "metadata": {
        "colab": {
          "base_uri": "https://localhost:8080/"
        },
        "id": "hJvicuYZ7UAO",
        "outputId": "2fc891b8-ba7c-4a95-8ebf-6337169bb489"
      },
      "execution_count": 41,
      "outputs": [
        {
          "output_type": "stream",
          "name": "stdout",
          "text": [
            "Da un primer numero 3\n",
            "Da un segundo numero 2\n",
            "La suma de los números es 5\n"
          ]
        }
      ]
    },
    {
      "cell_type": "code",
      "source": [
        "list = [1,2,3,4,5] #Ejercicio 5\n",
        "print(list[0], \"y\", list[4])"
      ],
      "metadata": {
        "colab": {
          "base_uri": "https://localhost:8080/"
        },
        "id": "awpfgPlt75gk",
        "outputId": "69725e41-cf15-44ab-ccd4-e6dd6983b429"
      },
      "execution_count": 35,
      "outputs": [
        {
          "output_type": "stream",
          "name": "stdout",
          "text": [
            "1 y 5\n"
          ]
        }
      ]
    },
    {
      "cell_type": "code",
      "source": [
        "numero = str(input(\"Ingresa un numero \")) #Ejercicio 6\n",
        "if int(numero) % 2 == 0:\n",
        "  print(\"El número es par\")\n",
        "else:\n",
        "    print(\"El número es impar\")"
      ],
      "metadata": {
        "colab": {
          "base_uri": "https://localhost:8080/"
        },
        "id": "fVqAUPDm776Z",
        "outputId": "446b4001-96d1-415e-dba9-db723354b695"
      },
      "execution_count": 40,
      "outputs": [
        {
          "output_type": "stream",
          "name": "stdout",
          "text": [
            "Ingresa un numero 3\n",
            "El número es impar\n"
          ]
        }
      ]
    },
    {
      "cell_type": "code",
      "source": [
        "for i in range(1,11): #Ejercicio 7\n",
        "  print(i)"
      ],
      "metadata": {
        "colab": {
          "base_uri": "https://localhost:8080/"
        },
        "id": "lzvNscPk9YSQ",
        "outputId": "7ec367c8-3570-4a82-9a68-5e02de4f7fc8"
      },
      "execution_count": 42,
      "outputs": [
        {
          "output_type": "stream",
          "name": "stdout",
          "text": [
            "1\n",
            "2\n",
            "3\n",
            "4\n",
            "5\n",
            "6\n",
            "7\n",
            "8\n",
            "9\n",
            "10\n"
          ]
        }
      ]
    },
    {
      "cell_type": "code",
      "source": [
        "sum([i for i in range(1,101)]) #Ejercicio 8"
      ],
      "metadata": {
        "colab": {
          "base_uri": "https://localhost:8080/"
        },
        "id": "lrTOwX1ABS7E",
        "outputId": "c18d1010-8897-4560-a796-74bfe16433d1"
      },
      "execution_count": 69,
      "outputs": [
        {
          "output_type": "execute_result",
          "data": {
            "text/plain": [
              "5050"
            ]
          },
          "metadata": {},
          "execution_count": 69
        }
      ]
    },
    {
      "cell_type": "code",
      "source": [
        "x = int(input(\"Ingresa un numero para saber su cuadrado \")) #Ejercicio 9\n",
        "print(f\"El cuadrado de {x} es {x*x}\")\n",
        "def cuadrado(numero1, numero2):\n",
        "  return(numero1*numero2)\n",
        "  resultado = cuadrado(5,5)\n",
        "  print(resultado)"
      ],
      "metadata": {
        "colab": {
          "base_uri": "https://localhost:8080/"
        },
        "id": "bDXq2D05AKAQ",
        "outputId": "0f3fa755-92c6-40b1-d2a3-08328ea517b4"
      },
      "execution_count": 66,
      "outputs": [
        {
          "output_type": "stream",
          "name": "stdout",
          "text": [
            "Ingresa un numero para saber su cuadrado 5\n",
            "El cuadrado de 5 es 25\n"
          ]
        }
      ]
    },
    {
      "cell_type": "code",
      "source": [
        "#Ejercicio 10\n",
        "def contar_vocales(texto):\n",
        "  vocales = \"aeiouAEIOU\"\n",
        "  cont = 0\n",
        "  for char in texto:\n",
        "    if char in vocales:\n",
        "      cont += 1\n",
        "  return cont\n",
        "vocales = \"aeiouAEIOU\"\n",
        "\n",
        "texto = input(\"Introduce un texto \")\n",
        "\n",
        "cont = 0\n",
        "\n",
        "for char in texto:\n",
        "  if char in vocales:\n",
        "    cont += 1\n",
        "\n",
        "print(f\"El número de vocales es {cont}\")"
      ],
      "metadata": {
        "colab": {
          "base_uri": "https://localhost:8080/"
        },
        "id": "oIiTMSuSR7Qi",
        "outputId": "81ae0cc4-d93a-456e-c049-1bc7df651cbd"
      },
      "execution_count": 138,
      "outputs": [
        {
          "output_type": "stream",
          "name": "stdout",
          "text": [
            "Introduce un texto oso\n",
            "El número de vocales es 2\n"
          ]
        }
      ]
    },
    {
      "cell_type": "code",
      "source": [
        "#Ejercicio 11\n",
        "A= [1, 2, 3, 4, 5, 6, 7, 8, 9, 10]\n",
        "for i in A:\n",
        "  if i % 2 == 0:\n",
        "    print(i)\n"
      ],
      "metadata": {
        "colab": {
          "base_uri": "https://localhost:8080/"
        },
        "id": "brZ8_pgGDCRe",
        "outputId": "decf501b-e459-4eeb-b4f2-9208b8269882"
      },
      "execution_count": 135,
      "outputs": [
        {
          "output_type": "stream",
          "name": "stdout",
          "text": [
            "2\n",
            "4\n",
            "6\n",
            "8\n",
            "10\n"
          ]
        }
      ]
    },
    {
      "cell_type": "code",
      "source": [
        "edades = {\"Ceci\": 19, \"Ana\": 27, \"Javi\":25} #Ejercicio 12\n",
        "print(f\"{edades.keys()}\")\n",
        "print(f\"{edades.values()}\")\n",
        "print(f\"{edades.items}\")"
      ],
      "metadata": {
        "colab": {
          "base_uri": "https://localhost:8080/"
        },
        "id": "lY9-PFfYF7_l",
        "outputId": "cc2cce66-fc94-4758-d816-0244df88eedb"
      },
      "execution_count": 108,
      "outputs": [
        {
          "output_type": "stream",
          "name": "stdout",
          "text": [
            "dict_keys(['Ceci', 'Ana', 'Javi'])\n",
            "dict_values([19, 27, 25])\n",
            "<built-in method items of dict object at 0x7cbbf3651040>\n"
          ]
        }
      ]
    },
    {
      "cell_type": "code",
      "source": [
        "#Ejercicio 13\n",
        "numeros = [1, 17, 7, 77, 87]\n",
        "mayor = numeros[0]\n",
        "for num in numeros:\n",
        "  if num > mayor:\n",
        "    mayor = num\n",
        "print(f\"El número mayor es {mayor}\")"
      ],
      "metadata": {
        "colab": {
          "base_uri": "https://localhost:8080/"
        },
        "id": "cwsYsX2mRDcj",
        "outputId": "59a663c7-6d0b-4c7d-8cb9-7be707147846"
      },
      "execution_count": 168,
      "outputs": [
        {
          "output_type": "stream",
          "name": "stdout",
          "text": [
            "El número mayor es 87\n"
          ]
        }
      ]
    },
    {
      "cell_type": "code",
      "source": [
        "#Ejercicio 14\n",
        "A = [1, 2, 3, 4, 5]\n",
        "def promedio (num1, num2, num3, num4, num5):\n",
        "  return (num1+num2+num3+num4+num5)/5\n",
        "print(promedio(1,2,3,4,5))"
      ],
      "metadata": {
        "colab": {
          "base_uri": "https://localhost:8080/"
        },
        "id": "E9r-2vdCHZ5v",
        "outputId": "7ea71206-e7f4-4ace-9fb7-c6bebf66f325"
      },
      "execution_count": 174,
      "outputs": [
        {
          "output_type": "stream",
          "name": "stdout",
          "text": [
            "3.0\n"
          ]
        }
      ]
    },
    {
      "cell_type": "code",
      "source": [
        "#Ejercicio 15\n",
        "palabra = input(\"Ingresa una palabra \")\n",
        "if palabra == palabra[::-1]:\n",
        "  print(\"Es un palíndromo\")\n",
        "else:\n",
        "  print(\"No es un palíndromo\")\n"
      ],
      "metadata": {
        "colab": {
          "base_uri": "https://localhost:8080/"
        },
        "id": "9Inp1JlNQN42",
        "outputId": "380927d7-62c3-4792-8613-0d4b773aa5c8"
      },
      "execution_count": 137,
      "outputs": [
        {
          "output_type": "stream",
          "name": "stdout",
          "text": [
            "Ingresa una palabra ana\n",
            "Es un palíndromo\n"
          ]
        }
      ]
    },
    {
      "cell_type": "code",
      "source": [
        "#Ejercicio 16\n",
        "def mayor(num1, num2):\n",
        "    if num1 > num2:\n",
        "        return num1\n",
        "    else:\n",
        "        return num2\n",
        "num1  = 8\n",
        "num2 = 10\n",
        "resultado = mayor(num1, num2)\n",
        "print(resultado)"
      ],
      "metadata": {
        "colab": {
          "base_uri": "https://localhost:8080/"
        },
        "id": "fVurwuiaS9CX",
        "outputId": "5f5d69db-a021-4938-f58e-65936a84381a"
      },
      "execution_count": 180,
      "outputs": [
        {
          "output_type": "stream",
          "name": "stdout",
          "text": [
            "10\n"
          ]
        }
      ]
    },
    {
      "cell_type": "code",
      "source": [
        "#Ejercicio 17\n",
        "print(\"Ingresa un número que quieras saber su tabla de multiplicar\")\n",
        "num = int(input())\n",
        "for i in range(1, 11):\n",
        "  print(f\"{num}*{i}={num*i}\")\n"
      ],
      "metadata": {
        "colab": {
          "base_uri": "https://localhost:8080/"
        },
        "id": "G8LFlenuTAOR",
        "outputId": "6901c7eb-a4bf-4f50-e7dd-fb7c7b08c594"
      },
      "execution_count": 165,
      "outputs": [
        {
          "output_type": "stream",
          "name": "stdout",
          "text": [
            "Ingresa un número que quieras saber su tabla de multiplicar\n",
            "7\n",
            "7*1=7\n",
            "7*2=14\n",
            "7*3=21\n",
            "7*4=28\n",
            "7*5=35\n",
            "7*6=42\n",
            "7*7=49\n",
            "7*8=56\n",
            "7*9=63\n",
            "7*10=70\n"
          ]
        }
      ]
    },
    {
      "cell_type": "code",
      "source": [
        "#Ejercicio 18"
      ],
      "metadata": {
        "id": "5hdJv7X6TCCP"
      },
      "execution_count": null,
      "outputs": []
    },
    {
      "cell_type": "code",
      "source": [
        "#Ejercicio 19"
      ],
      "metadata": {
        "id": "kk0Qo3m2UIW6"
      },
      "execution_count": null,
      "outputs": []
    },
    {
      "cell_type": "code",
      "source": [
        "#Ejercicio 20"
      ],
      "metadata": {
        "id": "VFpp1ELpUJ_R"
      },
      "execution_count": null,
      "outputs": []
    }
  ]
}